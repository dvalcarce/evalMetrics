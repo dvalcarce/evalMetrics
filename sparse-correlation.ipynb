{
 "cells": [
  {
   "cell_type": "code",
   "execution_count": 1,
   "metadata": {
    "collapsed": true
   },
   "outputs": [],
   "source": [
    "%matplotlib inline\n",
    "import matplotlib\n",
    "import matplotlib.pyplot as plt\n",
    "import numpy as np\n",
    "import pandas as pd\n",
    "import pylab\n",
    "import seaborn as sns\n",
    "matplotlib.rcParams['figure.figsize'] = [16.0, 10.0]"
   ]
  },
  {
   "cell_type": "code",
   "execution_count": 2,
   "metadata": {
    "collapsed": true
   },
   "outputs": [],
   "source": [
    "from itertools import cycle, islice\n",
    "\n",
    "styles = list(islice(cycle(['X-', '<-', '.-', 'v-', '*-', 'o-', '>-', '^-', 'd-', 's-', '+-']), 100))\n",
    "markers = list(islice(cycle(['X', '<', '.', 'v', '*', 'o', '>', '^', 'd', 's', '+']), 100))\n",
    "\n",
    "def get_markers(n):\n",
    "    return markers[:n]"
   ]
  },
  {
   "cell_type": "code",
   "execution_count": 3,
   "metadata": {
    "collapsed": true
   },
   "outputs": [],
   "source": [
    "df1M = pd.read_csv(\"data/results-all-ml-1M.csv\", index_col=('Percentage', 'Sample', 'Recommender'))\n",
    "dfLT = pd.read_csv(\"data/results-all-libraryThing.csv\", index_col=('Percentage', 'Sample', 'Recommender'))\n",
    "dfBA = pd.read_csv(\"data/results-all-beerAdvocate.csv\", index_col=('Percentage', 'Sample', 'Recommender'))"
   ]
  },
  {
   "cell_type": "code",
   "execution_count": 4,
   "metadata": {
    "collapsed": true
   },
   "outputs": [],
   "source": [
    "import re\n",
    "\n",
    "\n",
    "def without_cutoff(metric):\n",
    "    return re.fullmatch('.*_[0-9]+', metric) is None\n",
    "    \n",
    "def computeTau(df, metrics=None):\n",
    "    percentages = df.index.levels[0]\n",
    "    samples = df.index.levels[1]\n",
    "    if metrics is None:\n",
    "        metrics = list(filter(without_cutoff, df.columns))\n",
    "    n_samples = len(samples)\n",
    "    tau = pd.DataFrame(0.0, columns=metrics, index=percentages)\n",
    "\n",
    "    for percentage in percentages:\n",
    "        # Reference data\n",
    "        refdf = df.xs((1.00, 0), level=('Percentage', 'Sample'))\n",
    "\n",
    "        for sample in samples:\n",
    "            # Comparison data\n",
    "            mydf = df.xs((percentage, sample), level=('Percentage', 'Sample'))\n",
    "\n",
    "            for metric in metrics:\n",
    "                # Compute Kendall for each metric\n",
    "                tau[metric][percentage] += mydf[metric].corr(refdf[metric], method=\"kendall\")\n",
    "\n",
    "    return tau / n_samples"
   ]
  },
  {
   "cell_type": "code",
   "execution_count": 5,
   "metadata": {
    "collapsed": true
   },
   "outputs": [],
   "source": [
    "import matplotlib.pyplot as plt\n",
    "from matplotlib.backends.backend_pdf import PdfPages\n",
    "\n",
    "\n",
    "def plot_in_pdf(filename, titles, dfs, ylabel, xlim=[1.0, 0.0], ylim=[0.8, 1.0]):\n",
    "    with PdfPages(filename) as pdf:\n",
    "        for title, df in zip(titles, dfs):\n",
    "            ax = df.plot(colormap='Set1', style=styles)\n",
    "            ax.invert_xaxis()\n",
    "            ax.legend(bbox_to_anchor=(1.02, 1), loc=2)\n",
    "            ax.set_title(title)\n",
    "            ax.set_ylabel(ylabel)\n",
    "            ax.set_xlim(xlim)\n",
    "            ax.set_ylim(ylim)\n",
    "            pdf.savefig(bbox_inches='tight')\n",
    "            plt.close()"
   ]
  },
  {
   "cell_type": "code",
   "execution_count": 6,
   "metadata": {
    "collapsed": true
   },
   "outputs": [],
   "source": [
    "from xlsxwriter.utility import xl_col_to_name\n",
    "\n",
    "\n",
    "def write_excel(filename, dfs, names):\n",
    "    with pd.ExcelWriter(filename, engine='xlsxwriter') as writer:\n",
    "        for df, name in zip(dfs, names):\n",
    "            df.to_excel(writer, sheet_name=name)\n",
    "            n_percentages = len(df.index)\n",
    "            count = 1\n",
    "            worksheet = writer.sheets[name]\n",
    "            median = df.median().mean()\n",
    "            minimum = df.min().min()\n",
    "            for column in df.columns:\n",
    "                fmt = \"{c}2:{c}{n}\".format(c=xl_col_to_name(count), n=n_percentages + 1)\n",
    "                count += 1\n",
    "                worksheet.conditional_format(fmt, {'type': '3_color_scale',\n",
    "                                                   'min_type': 'num',\n",
    "                                                   'mid_type': 'num',\n",
    "                                                   'max_type': 'num',\n",
    "                                                   'min_value': minimum,\n",
    "                                                   'mid_value': median,\n",
    "                                                   'max_value': 1.0})"
   ]
  },
  {
   "cell_type": "code",
   "execution_count": 7,
   "metadata": {
    "collapsed": true
   },
   "outputs": [],
   "source": [
    "from multiprocessing import Pool\n",
    "\n",
    "\n",
    "dfs = [df1M, dfLT, dfBA]\n",
    "metrics = ['bpref', 'err', 'infAP2', 'map', 'ndcg', 'qm', 'recip_rank', 'set_F', 'set_P', 'set_recall']\n",
    "\n",
    "with Pool() as pool:\n",
    "    taus = pool.starmap(computeTau, [(df, metrics) for df in dfs])\n",
    "    \n",
    "titles = ['MovieLens 1M (sparse qrels)', 'LibraryThing (sparse qrels)', 'BeerAdvocate (sparse qrels)']\n",
    "names = ['MovieLens 1M', 'LibraryThing', 'BeerAdvocate']\n",
    "\n",
    "plot_in_pdf('results/sparse/sparse_kendall.pdf', titles, taus, \"Kendall's tau\")\n",
    "write_excel('results/sparse/sparse_kendall.xlsx', taus, names)"
   ]
  },
  {
   "cell_type": "code",
   "execution_count": 8,
   "metadata": {
    "collapsed": true
   },
   "outputs": [],
   "source": [
    "from multiprocessing import Pool\n",
    "\n",
    "\n",
    "dfs = [df1M, dfLT, dfBA]\n",
    "titles =  ['MovieLens 1M (sparse qrels)', 'LibraryThing (sparse qrels)', 'BeerAdvocate (sparse qrels)']\n",
    "names =   ['MovieLens 1M', 'LibraryThing', 'BeerAdvocate']\n",
    "\n",
    "precs =   ['P_5', 'P_10', 'P_20', 'P_30', 'P_40', 'P_50', 'P_60', 'P_70',\n",
    "           'P_80', 'P_90', 'P_100']\n",
    "recalls = ['recall_5', 'recall_10', 'recall_20', 'recall_30', 'recall_40',\n",
    "           'recall_50', 'recall_60', 'recall_70', 'recall_80', 'recall_90',\n",
    "           'recall_100']\n",
    "maps =    ['map_cut_5', 'map_cut_10', 'map_cut_20', 'map_cut_30',\n",
    "           'map_cut_40', 'map_cut_50', 'map_cut_60', 'map_cut_70',\n",
    "           'map_cut_80', 'map_cut_90', 'map_cut_100']\n",
    "ndcgs =   ['ndcg_cut_5', 'ndcg_cut_10', 'ndcg_cut_20', 'ndcg_cut_30',\n",
    "           'ndcg_cut_40', 'ndcg_cut_50', 'ndcg_cut_60', 'ndcg_cut_70',\n",
    "           'ndcg_cut_80', 'ndcg_cut_90', 'ndcg_cut_100']\n",
    "ndcg2s =  ['ndcg2_cut_5', 'ndcg2_cut_10', 'ndcg2_cut_20', 'ndcg2_cut_30',\n",
    "           'ndcg2_cut_40', 'ndcg2_cut_50', 'ndcg2_cut_60', 'ndcg2_cut_70',\n",
    "           'ndcg2_cut_80', 'ndcg2_cut_90', 'ndcg2_cut_100']\n",
    "ndcg45s = ['ndcg45_cut_5', 'ndcg45_cut_10', 'ndcg45_cut_20', 'ndcg45_cut_30',\n",
    "           'ndcg45_cut_40', 'ndcg45_cut_50', 'ndcg45_cut_60', 'ndcg45_cut_70',\n",
    "           'ndcg45_cut_80', 'ndcg45_cut_90', 'ndcg45_cut_100']\n",
    "qms =     ['qm_cut_5', 'qm_cut_10', 'qm_cut_20', 'qm_cut_30',\n",
    "           'qm_cut_40', 'qm_cut_50', 'qm_cut_60', 'qm_cut_70',\n",
    "           'qm_cut_80', 'qm_cut_90', 'qm_cut_100']\n",
    "qm45s =   ['qm45_cut_5', 'qm45_cut_10', 'qm45_cut_20', 'qm45_cut_30',\n",
    "           'qm45_cut_40', 'qm45_cut_50', 'qm45_cut_60', 'qm45_cut_70',\n",
    "           'qm45_cut_80', 'qm45_cut_90', 'qm45_cut_100']\n",
    "\n",
    "for metric_name, metrics in zip(\n",
    "    ['precision', 'recall', 'map', 'ndcg', 'ndcg2', 'ndcg45', 'qm', 'qm45'],\n",
    "    [precs, recalls, maps, ndcgs, ndcg2s, ndcg45s, qms, qm45s]):\n",
    "    with Pool() as pool:\n",
    "        taus_cutoffs = pool.starmap(computeTau, [(df, metrics) for df in dfs])\n",
    "\n",
    "    plot_in_pdf('results/sparse/sparse_kendall_' + metric_name + '_cutoffs.pdf', titles, taus_cutoffs, \"Kendall's tau\")\n",
    "    write_excel('results/sparse/sparse_kendall_' + metric_name + '_cutoffs.xlsx', taus_cutoffs, names)"
   ]
  },
  {
   "cell_type": "code",
   "execution_count": 9,
   "metadata": {
    "collapsed": true
   },
   "outputs": [],
   "source": [
    "matplotlib.rcParams['figure.figsize'] = [6, 2.8]\n",
    "sns.set_style(\"ticks\")\n",
    "plt.rc('text', usetex=True)\n",
    "plt.rc('font', family='serif')\n",
    "\n",
    "p = sns.color_palette(\"Set1\", 9)\n",
    "p.append((0.090196078431372548, 0.74509803921568629, 0.81176470588235294))\n",
    "p.append((0.73725490196078436, 0.74117647058823533, 0.13333333333333333))\n",
    "\n",
    "ndcgs = ['ndcg_cut_5', 'ndcg_cut_10', 'ndcg_cut_20', 'ndcg_cut_30',\n",
    "         'ndcg_cut_40', 'ndcg_cut_50', 'ndcg_cut_60', 'ndcg_cut_70',\n",
    "         'ndcg_cut_80', 'ndcg_cut_90', 'ndcg_cut_100']\n",
    "\n",
    "df = computeTau(df1M, ndcgs)\n",
    "df.columns = ['nDCG@5', 'nDCG@10', 'nDCG@20', 'nDCG@30', 'nDCG@40','nDCG@50',\n",
    "              'nDCG@60', 'nDCG@70', 'nDCG@80', 'nDCG@90', 'nDCG@100']\n",
    "df.index = df.index * 100\n",
    "\n",
    "with PdfPages('results/sparse/sparse_kendall_ndcg_cutoffs_final.pdf') as pdf:\n",
    "    with sns.color_palette(p):\n",
    "        ax = df.plot(style=styles, linewidth=1.3, markersize=7)\n",
    "        ax.invert_xaxis()\n",
    "        ax.set_ylabel(\"Kendall's $\\\\tau$\")\n",
    "        ax.set_xlabel(\"\\% of ratings in the test set\")\n",
    "        ax.set_xlim([100.0, 0.0])\n",
    "        ax.set_ylim([0.85, 1.0])\n",
    "        ax.legend(ncol=2)\n",
    "        plt.xticks(np.arange(100, -10, -10))\n",
    "        plt.yticks(np.arange(0.85, 1.0, 0.05))\n",
    "        sns.despine()\n",
    "        pdf.savefig(bbox_inches='tight')\n",
    "        plt.close()"
   ]
  },
  {
   "cell_type": "code",
   "execution_count": 10,
   "metadata": {
    "collapsed": true
   },
   "outputs": [],
   "source": [
    "matplotlib.rcParams['figure.figsize'] = [6, 2.8]\n",
    "sns.set_style(\"ticks\")\n",
    "plt.rc('text', usetex=True)\n",
    "plt.rc('font', family='serif')\n",
    "\n",
    "p = sns.color_palette(\"Set1\", 9)\n",
    "p.append((0.090196078431372548, 0.74509803921568629, 0.81176470588235294))\n",
    "p.append((0.73725490196078436, 0.74117647058823533, 0.13333333333333333))\n",
    "\n",
    "metrics = ['set_P', 'set_recall', 'map',  'ndcg', 'recip_rank', 'bpref', 'infAP2']\n",
    "new_names = ['P', 'Recall', 'MAP', 'nDCG', 'MRR', 'bpref', 'infAP']\n",
    "\n",
    "with PdfPages('results/sparse/sparse_kendall_final.pdf') as pdf:\n",
    "    for df in taus:\n",
    "        x = df[metrics]\n",
    "        x.columns = new_names\n",
    "        x.index *= 100\n",
    "        with sns.color_palette(p):\n",
    "            ax = x.plot(style=styles, linewidth=1.3, markersize=7)\n",
    "            ax.invert_xaxis()\n",
    "            ax.set_ylabel(\"Kendall's $\\\\tau$\")\n",
    "            ax.set_xlabel(\"\\% of ratings in the test set\")\n",
    "            ax.set_xlim([100.0, 0.0])\n",
    "            ax.set_ylim([0.85, 1.0])\n",
    "            plt.xticks(np.arange(100, -10, -10))\n",
    "            plt.yticks(np.arange(0.85, 1.0, 0.05))\n",
    "            sns.despine()\n",
    "            pdf.savefig(bbox_inches='tight')\n",
    "            plt.close()"
   ]
  },
  {
   "cell_type": "code",
   "execution_count": null,
   "metadata": {
    "collapsed": true
   },
   "outputs": [],
   "source": []
  }
 ],
 "metadata": {
  "kernelspec": {
   "display_name": "Python 3",
   "language": "python",
   "name": "python3"
  },
  "language_info": {
   "codemirror_mode": {
    "name": "ipython",
    "version": 3
   },
   "file_extension": ".py",
   "mimetype": "text/x-python",
   "name": "python",
   "nbconvert_exporter": "python",
   "pygments_lexer": "ipython3",
   "version": "3.6.6"
  }
 },
 "nbformat": 4,
 "nbformat_minor": 1
}

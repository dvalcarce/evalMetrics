{
 "cells": [
  {
   "cell_type": "code",
   "execution_count": 1,
   "metadata": {
    "collapsed": true
   },
   "outputs": [],
   "source": [
    "%matplotlib inline\n",
    "import matplotlib\n",
    "import matplotlib.pyplot as plt\n",
    "import numpy as np\n",
    "import pandas as pd\n",
    "import pylab\n",
    "import seaborn as sns\n",
    "matplotlib.rcParams['figure.figsize'] = [16.0, 10.0]"
   ]
  },
  {
   "cell_type": "code",
   "execution_count": 2,
   "metadata": {
    "collapsed": true
   },
   "outputs": [],
   "source": [
    "df1M = pd.read_csv(\"data/results-all-ml-1M.csv\", index_col=[\"Percentage\", \"Recommender\"])\n",
    "df1M.drop([\"Sample\"], axis=1, inplace=True)\n",
    "merged1M = df1M.groupby(level=[\"Percentage\", \"Recommender\"]).mean()\n",
    "\n",
    "dfLT = pd.read_csv(\"data/results-all-libraryThing.csv\", index_col=[\"Percentage\", \"Recommender\"])\n",
    "dfLT.drop([\"Sample\"], axis=1, inplace=True)\n",
    "mergedLT = dfLT.groupby(level=[\"Percentage\", \"Recommender\"]).mean()\n",
    "\n",
    "dfBA = pd.read_csv(\"data/results-all-beerAdvocate.csv\", index_col=[\"Percentage\", \"Recommender\"])\n",
    "dfBA.drop([\"Sample\"], axis=1, inplace=True)\n",
    "mergedBA = dfBA.groupby(level=[\"Percentage\", \"Recommender\"]).mean()"
   ]
  },
  {
   "cell_type": "code",
   "execution_count": 3,
   "metadata": {
    "collapsed": true
   },
   "outputs": [],
   "source": [
    "dfs = [merged1M, mergedLT, mergedBA]\n",
    "taus = [df.loc[1.00].corr(method='kendall') for df in dfs]"
   ]
  },
  {
   "cell_type": "code",
   "execution_count": 4,
   "metadata": {
    "collapsed": true
   },
   "outputs": [],
   "source": [
    "import matplotlib.pyplot as plt\n",
    "import re\n",
    "from matplotlib.backends.backend_pdf import PdfPages\n",
    "\n",
    "\n",
    "def without_cutoff(metric):\n",
    "    return re.fullmatch('.*_[0-9]+', metric) is None\n",
    "\n",
    "def plot_clustermap_in_pdf(filename, titles, dfs, ylabel, metrics=None):\n",
    "    with PdfPages(filename) as pdf:\n",
    "        for title, df in zip(titles, dfs):\n",
    "            if metrics is None:\n",
    "                metrics = list(filter(without_cutoff, df.columns))\n",
    "            cg = sns.clustermap(df.loc[metrics][metrics], linewidths=.5, method='ward', cmap=\"YlGnBu\", vmin=0.75, vmax=1.0, annot_kws={\"size\": 10})\n",
    "            cg.ax_heatmap.set_title(title)\n",
    "            plt.setp(cg.ax_heatmap.yaxis.get_majorticklabels(), rotation=0)\n",
    "            pdf.savefig(bbox_inches='tight')\n",
    "            plt.close()\n",
    "\n",
    "def plot_heatmap_in_pdf(filename, titles, dfs, ylabel, metrics=None):\n",
    "    with PdfPages(filename) as pdf:\n",
    "        for title, df in zip(titles, dfs):\n",
    "            if metrics is None:\n",
    "                metrics = list(filter(without_cutoff, df.columns))\n",
    "            ax = sns.heatmap(df.loc[metrics][metrics], linewidths=.5, annot=True, fmt='.2f', cmap=\"YlGnBu\", annot_kws={\"size\": 10}, vmin=0.75, vmax=1.0)\n",
    "            ax.set_title(title)\n",
    "            ax.set_ylabel(ylabel)\n",
    "            pdf.savefig(bbox_inches='tight')\n",
    "            plt.close()"
   ]
  },
  {
   "cell_type": "code",
   "execution_count": 5,
   "metadata": {
    "collapsed": true
   },
   "outputs": [],
   "source": [
    "from xlsxwriter.utility import xl_col_to_name\n",
    "\n",
    "def write_excel(filename, dfs, names):\n",
    "    with pd.ExcelWriter(filename, engine='xlsxwriter') as writer:\n",
    "        for df, name in zip(dfs, names):\n",
    "            df.to_excel(writer, sheet_name=name)\n",
    "            n_percentages = len(df.index)\n",
    "            count = 1\n",
    "            worksheet = writer.sheets[name]\n",
    "            median = df.median().mean()\n",
    "            minimum = df.min().min()\n",
    "            for column in df.columns:\n",
    "                fmt = \"{c}2:{c}{n}\".format(c=xl_col_to_name(count), n=n_percentages + 1)\n",
    "                count += 1\n",
    "                worksheet.conditional_format(fmt, {'type': '3_color_scale',\n",
    "                                                   'min_type': 'num',\n",
    "                                                   'mid_type': 'num',\n",
    "                                                   'max_type': 'num',\n",
    "                                                   'min_value': minimum,\n",
    "                                                   'mid_value': median,\n",
    "                                                   'max_value': 1.0})"
   ]
  },
  {
   "cell_type": "code",
   "execution_count": 6,
   "metadata": {
    "collapsed": true
   },
   "outputs": [],
   "source": [
    "from multiprocessing import Pool\n",
    "\n",
    "\n",
    "titles = ['MovieLens 1M', 'LibraryThing', 'BeerAdvocate']\n",
    "\n",
    "metrics = ['bpref', 'err', 'infAP2', 'map', 'ndcg', 'qm', 'recip_rank', 'set_F', 'set_P', 'set_recall']\n",
    "\n",
    "with Pool() as pool:\n",
    "    pool.apply_async(plot_heatmap_in_pdf,\n",
    "                     ['results/correlation/heatmap_kendall_metrics.pdf', titles, taus, \"Kendall's tau\", metrics])\n",
    "    pool.apply_async(plot_clustermap_in_pdf,\n",
    "                     ['results/correlation/clustermap_kendall_metrics.pdf', titles, taus, \"Kendall's tau\", metrics])\n",
    "    pool.apply_async(write_excel,\n",
    "                     ['results/correlation/kendall_metrics.xlsx', taus, titles])\n",
    "    pool.close()\n",
    "    pool.join()"
   ]
  },
  {
   "cell_type": "code",
   "execution_count": 7,
   "metadata": {
    "collapsed": true
   },
   "outputs": [],
   "source": [
    "from multiprocessing import Pool\n",
    "\n",
    "\n",
    "titles = ['MovieLens 1M', 'LibraryThing', 'BeerAdvocate']\n",
    "\n",
    "precs =   ['P_5', 'P_10', 'P_20', 'P_30', 'P_40', 'P_50', 'P_60', 'P_70',\n",
    "           'P_80', 'P_90', 'P_100']\n",
    "recalls = ['recall_5', 'recall_10', 'recall_20', 'recall_30', 'recall_40',\n",
    "           'recall_50', 'recall_60', 'recall_70', 'recall_80', 'recall_90',\n",
    "           'recall_100']\n",
    "maps =    ['map_cut_5', 'map_cut_10', 'map_cut_20', 'map_cut_30',\n",
    "           'map_cut_40', 'map_cut_50', 'map_cut_60', 'map_cut_70',\n",
    "           'map_cut_80', 'map_cut_90', 'map_cut_100']\n",
    "ndcgs =   ['ndcg_cut_5', 'ndcg_cut_10', 'ndcg_cut_20', 'ndcg_cut_30',\n",
    "           'ndcg_cut_40', 'ndcg_cut_50', 'ndcg_cut_60', 'ndcg_cut_70',\n",
    "           'ndcg_cut_80', 'ndcg_cut_90', 'ndcg_cut_100']\n",
    "ndcg2s =  ['ndcg2_cut_5', 'ndcg2_cut_10', 'ndcg2_cut_20', 'ndcg2_cut_30',\n",
    "           'ndcg2_cut_40', 'ndcg2_cut_50', 'ndcg2_cut_60', 'ndcg2_cut_70',\n",
    "           'ndcg2_cut_80', 'ndcg2_cut_90', 'ndcg2_cut_100']\n",
    "ndcg45s = ['ndcg45_cut_5', 'ndcg45_cut_10', 'ndcg45_cut_20', 'ndcg45_cut_30',\n",
    "           'ndcg45_cut_40', 'ndcg45_cut_50', 'ndcg45_cut_60', 'ndcg45_cut_70',\n",
    "           'ndcg45_cut_80', 'ndcg45_cut_90', 'ndcg45_cut_100']\n",
    "qms =     ['qm_cut_5', 'qm_cut_10', 'qm_cut_20', 'qm_cut_30',\n",
    "           'qm_cut_40', 'qm_cut_50', 'qm_cut_60', 'qm_cut_70',\n",
    "           'qm_cut_80', 'qm_cut_90', 'qm_cut_100']\n",
    "qm45s =   ['qm45_cut_5', 'qm45_cut_10', 'qm45_cut_20', 'qm45_cut_30',\n",
    "           'qm45_cut_40', 'qm45_cut_50', 'qm45_cut_60', 'qm45_cut_70',\n",
    "           'qm45_cut_80', 'qm45_cut_90', 'qm45_cut_100']\n",
    "\n",
    "with Pool() as pool:\n",
    "    for metric_name, metrics in zip(\n",
    "        ['precision', 'recall', 'map', 'ndcg', 'ndcg2', 'ndcg45', 'qm', 'qm45'],\n",
    "        [precs, recalls, maps, ndcgs, ndcg2s, ndcg45s, qms, qm45s]):\n",
    "        \n",
    "        pool.apply_async(plot_heatmap_in_pdf,\n",
    "                         ['results/correlation/heatmap_kendall_' + metric_name + '_cutoffs.pdf',\n",
    "                          titles, taus, \"Kendall's tau\", metrics])\n",
    "    pool.close()\n",
    "    pool.join()"
   ]
  },
  {
   "cell_type": "code",
   "execution_count": 8,
   "metadata": {
    "collapsed": true
   },
   "outputs": [],
   "source": [
    "matplotlib.rcParams['figure.figsize'] = [6, 2.8]\n",
    "plt.rc('text', usetex=True)\n",
    "plt.rc('font', family='serif')\n",
    "\n",
    "ndcgs = ['ndcg_cut_5', 'ndcg_cut_10', 'ndcg_cut_20', 'ndcg_cut_30',\n",
    "         'ndcg_cut_40', 'ndcg_cut_50', 'ndcg_cut_60', 'ndcg_cut_70',\n",
    "         'ndcg_cut_80', 'ndcg_cut_90', 'ndcg_cut_100']\n",
    "\n",
    "cutoffs = ['@5', '@10', '@20', '@30', '@40', '@50', '@60', '@70', '@80', '@90', '@100']\n",
    "\n",
    "df = taus[0].loc[ndcgs][ndcgs]\n",
    "df.columns = cutoffs\n",
    "df.index = pd.Index(cutoffs)\n",
    "\n",
    "with PdfPages('results/correlation/heatmap_kendall_ndcg_cutoffs_final.pdf') as pdf:\n",
    "    ax = sns.heatmap(df,\n",
    "                     linewidths=.5,\n",
    "                     vmin=0.80,\n",
    "                     vmax=1.0,\n",
    "                     cmap=\"YlGnBu\",\n",
    "                     annot=True,\n",
    "                     fmt='.2f',\n",
    "                     annot_kws={\"size\": 10},\n",
    "                     cbar=False,\n",
    "                     square=False)\n",
    "    plt.yticks(rotation=0)\n",
    "    ax.xaxis.tick_top()\n",
    "    pdf.savefig(bbox_inches='tight')\n",
    "    plt.close()"
   ]
  },
  {
   "cell_type": "code",
   "execution_count": 9,
   "metadata": {
    "collapsed": true
   },
   "outputs": [],
   "source": [
    "matplotlib.rcParams['figure.figsize'] = [4, 2.24]\n",
    "plt.rc('text', usetex=True)\n",
    "plt.rc('font', family='serif')\n",
    "\n",
    "metrics = ['set_P', 'set_recall', 'map',  'ndcg', 'recip_rank', 'bpref', 'infAP2']\n",
    "new_names = ['P', 'Recall', 'MAP', 'nDCG', 'MRR', 'bpref', 'infAP']\n",
    "\n",
    "with PdfPages('results/correlation/heatmap_kendall_metrics_final.pdf') as pdf:\n",
    "    for df in taus:\n",
    "        df = df.loc[metrics][metrics]\n",
    "        df.columns = new_names\n",
    "        df.index = pd.Index(new_names)\n",
    "        ax = sns.heatmap(df,\n",
    "                         linewidths=.5,\n",
    "                         vmin=0.80,\n",
    "                         vmax=1.0,\n",
    "                         cmap=\"YlGnBu\",\n",
    "                         annot=True,\n",
    "                         fmt='.2f',\n",
    "                         annot_kws={\"size\": 10},\n",
    "                         cbar=False,\n",
    "                         square=False)\n",
    "        plt.yticks(rotation=0)\n",
    "        ax.xaxis.tick_top()\n",
    "        pdf.savefig(bbox_inches='tight')\n",
    "        plt.close()"
   ]
  },
  {
   "cell_type": "code",
   "execution_count": 10,
   "metadata": {
    "collapsed": true
   },
   "outputs": [],
   "source": [
    "matplotlib.rcParams['figure.figsize'] = [6, 3.4]\n",
    "plt.rc('text', usetex=True)\n",
    "plt.rc('font', family='serif')\n",
    "\n",
    "titles = ['MovieLens 1M', 'LibraryThing', 'BeerAdvocate']\n",
    "metrics = ['set_P', 'set_recall', 'map',  'ndcg', 'recip_rank', 'bpref', 'infAP2']\n",
    "new_names = ['P', 'Recall', 'MAP', 'nDCG', 'MRR', 'bpref', 'infAP']\n",
    "\n",
    "with PdfPages('results/correlation/clustermap_kendall_metrics_final.pdf') as pdf:\n",
    "    for df, title in zip(taus, titles):\n",
    "        df = df.loc[metrics][metrics]\n",
    "        df.columns = new_names\n",
    "        df.index = pd.Index(new_names)\n",
    "        cg = sns.clustermap(df, linewidths=.5, method='ward', cmap=\"YlGnBu\", vmin=0.80, vmax=1.0)\n",
    "        cg.ax_heatmap.set_title(title)\n",
    "        plt.setp(cg.ax_heatmap.yaxis.get_majorticklabels(), rotation=0)\n",
    "        pdf.savefig(bbox_inches='tight')\n",
    "        plt.close()"
   ]
  },
  {
   "cell_type": "code",
   "execution_count": null,
   "metadata": {
    "collapsed": true
   },
   "outputs": [],
   "source": []
  }
 ],
 "metadata": {
  "kernelspec": {
   "display_name": "Python 3",
   "language": "python",
   "name": "python3"
  },
  "language_info": {
   "codemirror_mode": {
    "name": "ipython",
    "version": 3
   },
   "file_extension": ".py",
   "mimetype": "text/x-python",
   "name": "python",
   "nbconvert_exporter": "python",
   "pygments_lexer": "ipython3",
   "version": "3.6.6"
  }
 },
 "nbformat": 4,
 "nbformat_minor": 1
}

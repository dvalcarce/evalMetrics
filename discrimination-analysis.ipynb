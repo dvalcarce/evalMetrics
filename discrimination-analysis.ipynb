{
 "cells": [
  {
   "cell_type": "code",
   "execution_count": 1,
   "metadata": {
    "collapsed": true
   },
   "outputs": [],
   "source": [
    "%matplotlib inline\n",
    "import matplotlib\n",
    "import matplotlib.pyplot as plt\n",
    "import numpy as np\n",
    "import pandas as pd\n",
    "import pylab\n",
    "\n",
    "matplotlib.rcParams['figure.figsize'] = [16.0, 10.0]"
   ]
  },
  {
   "cell_type": "code",
   "execution_count": 2,
   "metadata": {
    "collapsed": true,
    "scrolled": false
   },
   "outputs": [],
   "source": [
    "df1M = pd.read_csv(\"data/discriminative-ml-1M.csv\", index_col=['RunA', 'RunB'], delimiter=',')\n",
    "dfLT = pd.read_csv(\"data/discriminative-libraryThing.csv\", index_col=['RunA', 'RunB'], delimiter=',')\n",
    "dfBA = pd.read_csv(\"data/discriminative-beerAdvocate.csv\", index_col=['RunA', 'RunB'], delimiter=',')"
   ]
  },
  {
   "cell_type": "code",
   "execution_count": 3,
   "metadata": {
    "collapsed": true
   },
   "outputs": [],
   "source": [
    "import matplotlib as mpl\n",
    "import matplotlib.pyplot as plt\n",
    "import re\n",
    "\n",
    "from matplotlib.backends.backend_pdf import PdfPages\n",
    "from itertools import cycle, islice\n",
    "\n",
    "\n",
    "def without_cutoff(metric):\n",
    "    return re.fullmatch('.*_[0-9]+', metric) is None\n",
    "\n",
    "def plot_in_pdf(filename, names, dfs, metrics=None, xlim=[0, 50]):\n",
    "    with PdfPages(filename) as pdf:\n",
    "        for name, df in zip(names, dfs):\n",
    "            if metrics is None:\n",
    "                metrics = list(filter(without_cutoff, df.columns))\n",
    "            markers = islice(cycle(['X', '<', '.', 'v', '*', 'o', '>', '^', 'd', 's', '+']), 100)\n",
    "            fig, ax = plt.subplots()\n",
    "            for metric in metrics:\n",
    "                pvalues = df[metric].sort_values(ascending=False).values\n",
    "                ax.plot(pvalues, label=metric, marker=next(markers))\n",
    "            ax.set_title(\"Discrimination analysis on \" + name)\n",
    "            ax.set_ylabel('p_value')\n",
    "            ax.set_xlabel('pairs')\n",
    "            ax.set_xlim(xlim)\n",
    "            ax.legend(loc='lower right')\n",
    "            pdf.savefig(bbox_inches='tight')\n",
    "            plt.close()"
   ]
  },
  {
   "cell_type": "code",
   "execution_count": 4,
   "metadata": {
    "collapsed": true,
    "scrolled": false
   },
   "outputs": [],
   "source": [
    "names = ['MovieLens1M', 'LibraryThing', 'BeerAdvocate']\n",
    "dfs = [df1M, dfLT, dfBA]\n",
    "metrics = ['bpref', 'err', 'infAP2', 'map', 'ndcg', 'qm', 'recip_rank', 'set_F', 'set_P', 'set_recall']\n",
    "\n",
    "plot_in_pdf('results/discrimination/discrimination_metrics.pdf', names, dfs, metrics)"
   ]
  },
  {
   "cell_type": "code",
   "execution_count": 5,
   "metadata": {
    "collapsed": true
   },
   "outputs": [],
   "source": [
    "names = ['MovieLens1M', 'LibraryThing', 'BeerAdvocate']\n",
    "dfs = [df1M, dfLT, dfBA]\n",
    "\n",
    "precs =   ['P_5', 'P_10', 'P_20', 'P_30', 'P_40', 'P_50', 'P_60', 'P_70',\n",
    "           'P_80', 'P_90', 'P_100']\n",
    "recalls = ['recall_5', 'recall_10', 'recall_20', 'recall_30', 'recall_40',\n",
    "           'recall_50', 'recall_60', 'recall_70', 'recall_80', 'recall_90',\n",
    "           'recall_100']\n",
    "maps =    ['map_cut_5', 'map_cut_10', 'map_cut_20', 'map_cut_30',\n",
    "           'map_cut_40', 'map_cut_50', 'map_cut_60', 'map_cut_70',\n",
    "           'map_cut_80', 'map_cut_90', 'map_cut_100']\n",
    "ndcgs =   ['ndcg_cut_5', 'ndcg_cut_10', 'ndcg_cut_20', 'ndcg_cut_30',\n",
    "           'ndcg_cut_40', 'ndcg_cut_50', 'ndcg_cut_60', 'ndcg_cut_70',\n",
    "           'ndcg_cut_80', 'ndcg_cut_90', 'ndcg_cut_100']\n",
    "ndcg2s =  ['ndcg2_cut_5', 'ndcg2_cut_10', 'ndcg2_cut_20', 'ndcg2_cut_30',\n",
    "           'ndcg2_cut_40', 'ndcg2_cut_50', 'ndcg2_cut_60', 'ndcg2_cut_70',\n",
    "           'ndcg2_cut_80', 'ndcg2_cut_90', 'ndcg2_cut_100']\n",
    "ndcg45s = ['ndcg45_cut_5', 'ndcg45_cut_10', 'ndcg45_cut_20', 'ndcg45_cut_30',\n",
    "           'ndcg45_cut_40', 'ndcg45_cut_50', 'ndcg45_cut_60', 'ndcg45_cut_70',\n",
    "           'ndcg45_cut_80', 'ndcg45_cut_90', 'ndcg45_cut_100']\n",
    "qms =     ['qm_cut_5', 'qm_cut_10', 'qm_cut_20', 'qm_cut_30',\n",
    "           'qm_cut_40', 'qm_cut_50', 'qm_cut_60', 'qm_cut_70',\n",
    "           'qm_cut_80', 'qm_cut_90', 'qm_cut_100']\n",
    "qm45s =   ['qm45_cut_5', 'qm45_cut_10', 'qm45_cut_20', 'qm45_cut_30',\n",
    "           'qm45_cut_40', 'qm45_cut_50', 'qm45_cut_60', 'qm45_cut_70',\n",
    "           'qm45_cut_80', 'qm45_cut_90', 'qm45_cut_100']\n",
    "\n",
    "for metric_name, metrics in zip(\n",
    "    ['precision', 'recall', 'map', 'ndcg', 'ndcg2', 'ndcg45', 'qm', 'qm45'],\n",
    "    [precs, recalls, maps, ndcgs, ndcg2s, ndcg45s, qms, qm45s]):\n",
    "    plot_in_pdf('results/discrimination/discrimination_' + metric_name + '_cutoffs.pdf', names, dfs, metrics)"
   ]
  },
  {
   "cell_type": "code",
   "execution_count": 6,
   "metadata": {
    "collapsed": true
   },
   "outputs": [],
   "source": [
    "from xlsxwriter.utility import xl_col_to_name\n",
    "\n",
    "\n",
    "def write_excel_quantiles(filename, dfs, names, start=0.9, end=1.0, steps=11):\n",
    "    with pd.ExcelWriter(filename, engine='xlsxwriter') as writer:\n",
    "        for df, name in zip(dfs, names):\n",
    "            df = df.quantile(np.linspace(start, end, steps))\n",
    "            df.to_excel(writer, sheet_name=name)\n",
    "            n_percentages = len(df.index)\n",
    "            count = 1\n",
    "            worksheet = writer.sheets[name]\n",
    "            for column in df.columns:\n",
    "                fmt = \"{c}2:{c}{n}\".format(c=xl_col_to_name(count), n=n_percentages + 1)\n",
    "                count += 1\n",
    "                worksheet.conditional_format(fmt, {'type': '3_color_scale',\n",
    "                                                   'min_type': 'num',\n",
    "                                                   'mid_type': 'num',\n",
    "                                                   'max_type': 'num',\n",
    "                                                   'min_value': 0.0,\n",
    "                                                   'mid_value': 0.5,\n",
    "                                                   'max_value': 1.0})"
   ]
  },
  {
   "cell_type": "code",
   "execution_count": 7,
   "metadata": {
    "collapsed": true
   },
   "outputs": [],
   "source": [
    "names = ['MovieLens1M', 'LibraryThing', 'BeerAdvocate']\n",
    "dfs = [df1M, dfLT, dfBA]\n",
    "\n",
    "write_excel_quantiles('results/discrimination/discrimination_quantiles.xlsx', dfs, names)"
   ]
  },
  {
   "cell_type": "code",
   "execution_count": 8,
   "metadata": {
    "collapsed": true
   },
   "outputs": [],
   "source": [
    "import seaborn as sns\n",
    "\n",
    "\n",
    "matplotlib.rcParams['figure.figsize'] = [6, 2.8]\n",
    "sns.set_style(\"ticks\")\n",
    "plt.rc('text', usetex=True)\n",
    "plt.rc('font', family='serif')\n",
    "\n",
    "p = sns.color_palette(\"Set1\", 9)\n",
    "p.append((0.090196078431372548, 0.74509803921568629, 0.81176470588235294))\n",
    "p.append((0.73725490196078436, 0.74117647058823533, 0.13333333333333333))\n",
    "\n",
    "\n",
    "ndcgs = ['ndcg_cut_5', 'ndcg_cut_10', 'ndcg_cut_20', 'ndcg_cut_30',\n",
    "         'ndcg_cut_40', 'ndcg_cut_50', 'ndcg_cut_60', 'ndcg_cut_70',\n",
    "         'ndcg_cut_80', 'ndcg_cut_90', 'ndcg_cut_100']\n",
    "new_names = ['nDCG@5', 'nDCG@10', 'nDCG@20', 'nDCG@30', 'nDCG@40','nDCG@50',\n",
    "             'nDCG@60', 'nDCG@70', 'nDCG@80', 'nDCG@90', 'nDCG@100']\n",
    "\n",
    "with PdfPages('results/discrimination/discrimination_ndcg_cutoffs_final.pdf') as pdf:\n",
    "     for df in (df1M, dfLT, dfBA):\n",
    "        x = df[ndcgs]\n",
    "        x.columns = new_names\n",
    "        with sns.color_palette(p):\n",
    "            markers = islice(cycle(['X', '<', '.', 'v', '*', 'o', '>', '^', 'd', 's', '+']), 100)\n",
    "            fig, ax = plt.subplots()\n",
    "            for metric in x.columns:\n",
    "                pvalues = x[metric].sort_values(ascending=False).values\n",
    "                ax.plot(pvalues, label=metric, marker=next(markers), linewidth=1.3, markersize=7)\n",
    "            ax.set_ylabel('$p$-value')\n",
    "            ax.set_xlabel('pairs of recommender systems')\n",
    "            ax.set_xlim([0, 25])\n",
    "            plt.xticks(np.arange(0, 26, 5))\n",
    "            ax.legend(ncol=2)\n",
    "            sns.despine()\n",
    "            pdf.savefig(bbox_inches='tight')\n",
    "            plt.close()"
   ]
  },
  {
   "cell_type": "code",
   "execution_count": 9,
   "metadata": {
    "collapsed": true
   },
   "outputs": [],
   "source": [
    "import seaborn as sns\n",
    "\n",
    "\n",
    "matplotlib.rcParams['figure.figsize'] = [6, 2.8]\n",
    "sns.set_style(\"ticks\")\n",
    "plt.rc('text', usetex=True)\n",
    "plt.rc('font', family='serif')\n",
    "\n",
    "p = sns.color_palette(\"Set1\", 9)\n",
    "p.append((0.090196078431372548, 0.74509803921568629, 0.81176470588235294))\n",
    "p.append((0.73725490196078436, 0.74117647058823533, 0.13333333333333333))\n",
    "\n",
    "metrics = ['set_P', 'set_recall', 'map',  'ndcg', 'recip_rank', 'bpref', 'infAP2']\n",
    "new_names = ['P', 'Recall', 'MAP', 'nDCG', 'MRR', 'bpref', 'infAP']\n",
    "\n",
    "with PdfPages('results/discrimination/discrimination_metrics_final.pdf') as pdf:\n",
    "    for df in (df1M, dfLT, dfBA):\n",
    "        x = df[metrics]\n",
    "        x.columns = new_names\n",
    "        with sns.color_palette(p):\n",
    "            markers = islice(cycle(['X', '<', '.', 'v', '*', 'o', '>', '^', 'd', 's', '+']), 100)\n",
    "            fig, ax = plt.subplots()\n",
    "            for metric in x.columns:\n",
    "                pvalues = x[metric].sort_values(ascending=False).values\n",
    "                ax.plot(pvalues, label=metric, marker=next(markers), linewidth=1.3, markersize=7)\n",
    "            ax.set_ylabel('$p$-value')\n",
    "            ax.set_xlabel('pairs of recommender systems')\n",
    "            ax.set_xlim([0, 25])\n",
    "            plt.xticks(np.arange(0, 26, 5))\n",
    "            ax.legend(ncol=2)\n",
    "            sns.despine()\n",
    "            pdf.savefig(bbox_inches='tight')\n",
    "            plt.close()"
   ]
  },
  {
   "cell_type": "code",
   "execution_count": 10,
   "metadata": {},
   "outputs": [
    {
     "name": "stdout",
     "output_type": "stream",
     "text": [
      "nDCG       1.3733\n",
      "P          2.5566\n",
      "F1         2.8398\n",
      "MAP        4.2730\n",
      "Recall     7.0396\n",
      "infAP      8.4436\n",
      "bpref      9.8846\n",
      "ERR       10.7496\n",
      "MRR       15.4912\n",
      "dtype: float64\n",
      "\n",
      "nDCG      0.2011\n",
      "MAP       1.1442\n",
      "P         1.4629\n",
      "ERR       1.9650\n",
      "MRR       2.9094\n",
      "F1        3.5574\n",
      "infAP     3.8457\n",
      "bpref     5.3558\n",
      "Recall    5.9159\n",
      "dtype: float64\n",
      "\n",
      "P          1.8462\n",
      "MAP        2.6661\n",
      "nDCG       4.4006\n",
      "infAP      4.8300\n",
      "ERR        5.2994\n",
      "MRR        5.8029\n",
      "Recall     8.3119\n",
      "F1        10.7426\n",
      "bpref     12.6614\n",
      "dtype: float64\n",
      "\n",
      "ndcg_cut_90     0.9271\n",
      "ndcg_cut_50     1.1742\n",
      "ndcg_cut_100    1.1994\n",
      "ndcg_cut_80     1.4011\n",
      "ndcg_cut_60     1.8606\n",
      "ndcg_cut_40     2.1630\n",
      "ndcg_cut_70     2.7763\n",
      "ndcg_cut_30     3.5829\n",
      "ndcg_cut_20     3.9404\n",
      "ndcg_cut_5      4.7496\n",
      "ndcg_cut_10     6.6123\n",
      "dtype: float64\n",
      "\n",
      "ndcg_cut_100    0.1753\n",
      "ndcg_cut_80     0.2270\n",
      "ndcg_cut_60     0.4514\n",
      "ndcg_cut_90     0.7182\n",
      "ndcg_cut_70     1.0168\n",
      "ndcg_cut_50     1.1950\n",
      "ndcg_cut_40     2.4770\n",
      "ndcg_cut_20     3.0180\n",
      "ndcg_cut_5      3.1339\n",
      "ndcg_cut_10     4.4577\n",
      "ndcg_cut_30     5.4435\n",
      "dtype: float64\n",
      "\n",
      "ndcg_cut_70     2.2214\n",
      "ndcg_cut_60     2.4612\n",
      "ndcg_cut_80     2.8676\n",
      "ndcg_cut_100    2.9356\n",
      "ndcg_cut_40     3.3260\n",
      "ndcg_cut_90     3.5074\n",
      "ndcg_cut_50     3.6152\n",
      "ndcg_cut_5      3.9590\n",
      "ndcg_cut_20     4.4141\n",
      "ndcg_cut_10     4.9274\n",
      "ndcg_cut_30     5.4931\n",
      "dtype: float64\n",
      "\n"
     ]
    }
   ],
   "source": [
    "metrics = ['set_P', 'set_recall', 'set_F', 'map',  'ndcg', 'recip_rank', 'err', 'bpref', 'infAP2']\n",
    "new_names = ['P', 'Recall', 'MAP', 'F1', 'nDCG', 'MRR', 'ERR', 'bpref', 'infAP']\n",
    "\n",
    "\n",
    "for df in dfs:\n",
    "    x = df[metrics]\n",
    "    x.columns = new_names\n",
    "    print(x.sum().sort_values())\n",
    "    print()\n",
    "    \n",
    "for df in dfs:\n",
    "    x = df[ndcgs]\n",
    "    print(x.sum().sort_values())\n",
    "    print()"
   ]
  },
  {
   "cell_type": "code",
   "execution_count": null,
   "metadata": {
    "collapsed": true
   },
   "outputs": [],
   "source": []
  }
 ],
 "metadata": {
  "kernelspec": {
   "display_name": "Python 3",
   "language": "python",
   "name": "python3"
  },
  "language_info": {
   "codemirror_mode": {
    "name": "ipython",
    "version": 3
   },
   "file_extension": ".py",
   "mimetype": "text/x-python",
   "name": "python",
   "nbconvert_exporter": "python",
   "pygments_lexer": "ipython3",
   "version": "3.6.6"
  }
 },
 "nbformat": 4,
 "nbformat_minor": 1
}
